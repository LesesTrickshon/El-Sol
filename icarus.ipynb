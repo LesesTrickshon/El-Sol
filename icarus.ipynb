{
 "cells": [
  {
   "cell_type": "markdown",
   "metadata": {},
   "source": [
    "# **ICARUS for El-Sol**"
   ]
  },
  {
   "cell_type": "markdown",
   "metadata": {},
   "source": [
    "## Set Up"
   ]
  },
  {
   "cell_type": "code",
   "execution_count": 1,
   "metadata": {},
   "outputs": [],
   "source": [
    "# Importing Libs\n",
    "import os\n",
    "import requests\n",
    "import time"
   ]
  },
  {
   "cell_type": "code",
   "execution_count": 2,
   "metadata": {},
   "outputs": [],
   "source": [
    "# Global Varibales:\n",
    "links = []\n",
    "list_name = input(\"Name of the scraped file: \")\n",
    "list_path = os.path.join(\".\\Data\\csv\", list_name)\n",
    "img_dir = \".\\Data\\Train-Images\""
   ]
  },
  {
   "cell_type": "markdown",
   "metadata": {},
   "source": [
    "## Reading the CSV"
   ]
  },
  {
   "cell_type": "code",
   "execution_count": 3,
   "metadata": {},
   "outputs": [],
   "source": [
    "# Saves each link from the provided csv file into the links array\n",
    "l = open(list_path, 'r')\n",
    "for line in l:\n",
    "    clean_line = line.strip()\n",
    "    links.append(clean_line)\n",
    "l.close()"
   ]
  },
  {
   "cell_type": "markdown",
   "metadata": {},
   "source": [
    "## Downloading the Images"
   ]
  },
  {
   "cell_type": "code",
   "execution_count": 4,
   "metadata": {},
   "outputs": [
    {
     "name": "stdout",
     "output_type": "stream",
     "text": [
      "\n",
      "===[ Beginning the Download! ]===\n",
      "\n",
      "Downloaded image 1.jpg from https://i.imgflip.com/804bjm.jpg\n",
      "100% ██████████████████████████████████████████████████ 100%\n",
      "\n",
      "\n"
     ]
    }
   ],
   "source": [
    "# Copys the Image Data, Creates a new file and pastes the data into it.\n",
    "print(\"\\n===[ Beginning the Download! ]===\\n\")\n",
    "for url in range(0, len(links)):\n",
    "    bar = \"\" \n",
    "    data = requests.get(links[url]).content\n",
    "    img = open(os.path.join(img_dir, str(url) + \".jpg\"), \"wb\")\n",
    "    img.write(data)\n",
    "    img.close()\n",
    "\n",
    "    # Gives Information about the download (Also adds a progess bar)\n",
    "    print(f\"Downloaded image {url+1}.jpg from {links[url]}\")\n",
    "    percent = (url+1) / len(links) * 100\n",
    "    bar_percent = int(percent/2)\n",
    "    for i in range(0,50):\n",
    "        if i <= bar_percent:\n",
    "            bar += \"█\"\n",
    "        else:\n",
    "            bar += \"-\"\n",
    "    print(f\"{int(percent)}% {bar} 100%\\n\\n\")\n",
    "\n",
    "    # Makes it not seem like a Dos tool!\n",
    "    time.sleep(0.5)"
   ]
  }
 ],
 "metadata": {
  "kernelspec": {
   "display_name": "el-sol",
   "language": "python",
   "name": "python3"
  },
  "language_info": {
   "codemirror_mode": {
    "name": "ipython",
    "version": 3
   },
   "file_extension": ".py",
   "mimetype": "text/x-python",
   "name": "python",
   "nbconvert_exporter": "python",
   "pygments_lexer": "ipython3",
   "version": "3.10.0"
  }
 },
 "nbformat": 4,
 "nbformat_minor": 2
}
